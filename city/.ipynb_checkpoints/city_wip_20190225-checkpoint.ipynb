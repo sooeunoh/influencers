{
 "cells": [
  {
   "cell_type": "code",
   "execution_count": 1,
   "metadata": {},
   "outputs": [
    {
     "ename": "ModuleNotFoundError",
     "evalue": "No module named 'address'",
     "output_type": "error",
     "traceback": [
      "\u001b[0;31m---------------------------------------------------------------------------\u001b[0m",
      "\u001b[0;31mModuleNotFoundError\u001b[0m                       Traceback (most recent call last)",
      "\u001b[0;32m<ipython-input-1-d1b8bcda8d21>\u001b[0m in \u001b[0;36m<module>\u001b[0;34m\u001b[0m\n\u001b[0;32m----> 1\u001b[0;31m \u001b[0;32mfrom\u001b[0m \u001b[0maddress\u001b[0m \u001b[0;32mimport\u001b[0m \u001b[0mAddressParser\u001b[0m\u001b[0;34m,\u001b[0m \u001b[0mAddress\u001b[0m\u001b[0;34m\u001b[0m\u001b[0;34m\u001b[0m\u001b[0m\n\u001b[0m\u001b[1;32m      2\u001b[0m \u001b[0;32mimport\u001b[0m \u001b[0mre\u001b[0m\u001b[0;34m\u001b[0m\u001b[0;34m\u001b[0m\u001b[0m\n\u001b[1;32m      3\u001b[0m \u001b[0;34m\u001b[0m\u001b[0m\n\u001b[1;32m      4\u001b[0m \u001b[0;32mdef\u001b[0m \u001b[0mcity\u001b[0m\u001b[0;34m(\u001b[0m\u001b[0mx\u001b[0m\u001b[0;34m)\u001b[0m\u001b[0;34m:\u001b[0m\u001b[0;34m\u001b[0m\u001b[0;34m\u001b[0m\u001b[0m\n\u001b[1;32m      5\u001b[0m \u001b[0;34m\u001b[0m\u001b[0m\n",
      "\u001b[0;31mModuleNotFoundError\u001b[0m: No module named 'address'"
     ]
    }
   ],
   "source": [
    "from address import AddressParser, Address\n",
    "import re\n",
    "\n",
    "def city(x):\n",
    "\n",
    "    dist = {'ALABAMA': 'AL', 'ALASKA': 'AK', 'ARIZONA': 'AZ', 'ARKANSAS': 'AR', 'CALIFORNIA': 'CA', 'COLORADO': 'CO', 'CONNECTICUT': 'CT', 'DELAWARE': 'DE', 'FLORIDA': 'FL', 'GEORGIA': 'GA', 'HAWAII': 'HI', 'IDAHO': 'ID', 'ILLINOIS': 'IL', 'INDIANA': 'IN', 'IOWA': 'IA', 'KANSAS': 'KS', 'KENTUCKY': 'KY', 'LOUISIANA': 'LA', 'MAINE': 'ME', 'MARYLAND': 'MD', 'MASSACHUSETTS': 'MA', 'MICHIGAN': 'MI', 'MINNESOTA': 'MN', 'MISSISSIPPI': 'MS', 'MISSOURI': 'MO', 'MONTANA': 'MT', 'NEBRASKA': 'NE', 'NEVADA': 'NV', 'NEW HAMPSHIRE': 'NH', 'NEW JERSEY': 'NJ', 'NEW MEXICO': 'NM', 'NEW YORK': 'NY', 'NORTH CAROLINA': 'NC', 'NORTH DAKOTA': 'ND', 'OHIO': 'OH', 'OKLAHOMA': 'OK', 'OREGON': 'OR', 'PENNSYLVANIA': 'PA', 'RHODE ISLAND': 'RI', 'SOUTH CAROLINA': 'SC', 'SOUTH DAKOTA': 'SD', 'TENNESSEE': 'TN', 'TEXAS': 'TX', 'UTAH': 'UT', 'VERMONT': 'VT', 'VIRGINIA': 'VA', 'WASHINGTON': 'WA', 'WEST VIRGINIA': 'WV', 'WISCONSIN': 'WI', 'WYOMING': 'WY', 'DISTRICT OF COLUMBIA': 'DC', 'ALA.': 'AL', 'ALASKA': 'AK', 'ARIZ.': 'AZ', 'ARK.': 'AR', 'CALIF.': 'CA', 'COLO.': 'CO', 'CONN.': 'CT', 'DEL.': 'DE', 'FLA.': 'FL', 'GA.': 'GA', 'HAWAII': 'HI', 'IDAHO': 'ID', 'ILL.': 'IL', 'IND.': 'IN', 'IOWA': 'IA', 'KAN.': 'KS', 'KY.': 'KY', 'LA.': 'LA', 'MAINE': 'ME', 'MD.': 'MD', 'MASS.': 'MA', 'MICH.': 'MI', 'MINN.': 'MN', 'MISS.': 'MS', 'MO.': 'MO', 'MONT.': 'MT', 'NEB.': 'NE', 'NEV.': 'NV', 'N.H.': 'NH', 'N.J.': 'NJ', 'N.M.': 'NM', 'N.Y.': 'NY', 'N.C.': 'NC', 'N.D.': 'ND', 'OHIO': 'OH', 'OKLA.': 'OK', 'ORE.': 'OR', 'PA.': 'PA', 'R.I.': 'RI', 'S.C.': 'SC', 'S.D.': 'SD', 'TENN.': 'TN', 'TEXAS': 'TX', 'UTAH': 'UT', 'VT.': 'VT', 'VA.': 'VA', 'WASH.': 'WA', 'W.VA.': 'WV', 'WIS.': 'WI', 'WYO.': 'WY', 'D.C.': 'DC'}\n",
    "    states = list(set(dist.keys()))\n",
    "    state_posts = list(set(dist.values()))\n",
    "    all_states = states+state_posts\n",
    "    try:\n",
    "        ap = AddressParser()\n",
    "        x = str(x)\n",
    "        city = ap.parse_address(x).city\n",
    "        return city.lower()\n",
    "\n",
    "    except:\n",
    "        if any(word.upper() in all_states for word in re.split(':| |,|/|-', x)):\n",
    "            a = re.split(':| |,|/|-', x)\n",
    "            a.reverse()\n",
    "            state = next(word for word in a if word.upper() in all_states)\n",
    "            words = x.replace(state, '')\n",
    "        elif any(state in x.upper() for state in states):\n",
    "            state = next(state for state in states if state in x.upper())\n",
    "            words = x.upper().replace(state, '')\n",
    "        else:\n",
    "            words = x\n",
    "        words = words.replace(',','').replace(':','').replace('/','').strip()\n",
    "        if not(ap.parse_address(x).house_number and ap.parse_address(x).street) and len(words.strip()) < 30 and any(i.isalpha() for i in words) and words.lower() != 'none':\n",
    "            return words.lower()\n",
    "        return None    "
   ]
  },
  {
   "cell_type": "code",
   "execution_count": 1,
   "metadata": {},
   "outputs": [
    {
     "name": "stdout",
     "output_type": "stream",
     "text": [
      "['NEBRASKA CITY', 'NEW YORK CITY', 'INDIANAPOLIS', 'IOWA CITY', 'JERSEY CITY', 'VIRGINIA BEACH', 'MARYLAND CITY', 'COLORADO CITY', 'FLORIDA CITY', 'MISSOURI CITY', 'TENNESSEE CITY', 'KANSAS CITY', 'VIRGINIA CITY', 'OHIO CITY', 'MINNESOTA CITY', 'OKLAHOMA CITY', 'CALIFORNIA CITY', 'TEXAS CITY', 'NEW YORK CITY', 'UTAH CITY', 'IDAHO CITY', 'ILLINOIS CITY', 'NEW GEORGIA', 'OKLAHOMA CITY', 'MISSISSIPPI CITY', 'MONTANA CITY', 'NEVADA CITY', 'DELAWARE CITY']\n",
      "['INDIANAPOLIS', '', 'INDIANA']\n",
      "<class 'list'>\n"
     ]
    }
   ],
   "source": [
    "import re\n",
    "dist = {'ALABAMA': 'AL', 'ALASKA': 'AK', 'ARIZONA': 'AZ', 'ARKANSAS': 'AR', 'CALIFORNIA': 'CA', 'COLORADO': 'CO', 'CONNECTICUT': 'CT', 'DELAWARE': 'DE', 'FLORIDA': 'FL', 'GEORGIA': 'GA', 'HAWAII': 'HI', 'IDAHO': 'ID', 'ILLINOIS': 'IL', 'INDIANA': 'IN', 'IOWA': 'IA', 'KANSAS': 'KS', 'KENTUCKY': 'KY', 'LOUISIANA': 'LA', 'MAINE': 'ME', 'MARYLAND': 'MD', 'MASSACHUSETTS': 'MA', 'MICHIGAN': 'MI', 'MINNESOTA': 'MN', 'MISSISSIPPI': 'MS', 'MISSOURI': 'MO', 'MONTANA': 'MT', 'NEBRASKA': 'NE', 'NEVADA': 'NV', 'NEW HAMPSHIRE': 'NH', 'NEW JERSEY': 'NJ', 'NEW MEXICO': 'NM', 'NEW YORK': 'NY', 'NORTH CAROLINA': 'NC', 'NORTH DAKOTA': 'ND', 'OHIO': 'OH', 'OKLAHOMA': 'OK', 'OREGON': 'OR', 'PENNSYLVANIA': 'PA', 'RHODE ISLAND': 'RI', 'SOUTH CAROLINA': 'SC', 'SOUTH DAKOTA': 'SD', 'TENNESSEE': 'TN', 'TEXAS': 'TX', 'UTAH': 'UT', 'VERMONT': 'VT', 'VIRGINIA': 'VA', 'WASHINGTON': 'WA', 'WEST VIRGINIA': 'WV', 'WISCONSIN': 'WI', 'WYOMING': 'WY', 'DISTRICT OF COLUMBIA': 'DC', 'ALA.': 'AL', 'ALASKA': 'AK', 'ARIZ.': 'AZ', 'ARK.': 'AR', 'CALIF.': 'CA', 'COLO.': 'CO', 'CONN.': 'CT', 'DEL.': 'DE', 'FLA.': 'FL', 'GA.': 'GA', 'HAWAII': 'HI', 'IDAHO': 'ID', 'ILL.': 'IL', 'IND.': 'IN', 'IOWA': 'IA', 'KAN.': 'KS', 'KY.': 'KY', 'LA.': 'LA', 'MAINE': 'ME', 'MD.': 'MD', 'MASS.': 'MA', 'MICH.': 'MI', 'MINN.': 'MN', 'MISS.': 'MS', 'MO.': 'MO', 'MONT.': 'MT', 'NEB.': 'NE', 'NEV.': 'NV', 'N.H.': 'NH', 'N.J.': 'NJ', 'N.M.': 'NM', 'N.Y.': 'NY', 'N.C.': 'NC', 'N.D.': 'ND', 'OHIO': 'OH', 'OKLA.': 'OK', 'ORE.': 'OR', 'PA.': 'PA', 'R.I.': 'RI', 'S.C.': 'SC', 'S.D.': 'SD', 'TENN.': 'TN', 'TEXAS': 'TX', 'UTAH': 'UT', 'VT.': 'VT', 'VA.': 'VA', 'WASH.': 'WA', 'W.VA.': 'WV', 'WIS.': 'WI', 'WYO.': 'WY', 'D.C.': 'DC'}\n",
    "states = list(set(dist.keys()))\n",
    "state_posts = list(set(dist.values()))\n",
    "all_states = states+state_posts\n",
    "\n",
    "x = \"indianapolis, Indiana\"\n",
    "\n",
    "#exceptional_city_name = \"New York City\" \n",
    "exceptional_city_name = {'new york city', 'oklahoma city', 'indianapolis', 'California City', 'Colorado City',\n",
    "                        'Delaware City', 'Florida City', 'New Georgia', 'Idaho City', 'Illinois City', 'Iowa City',\n",
    "                         'Jersey City', 'Jersey City', 'Kansas City', 'Maryland City', 'Minnesota City', 'Minnesota City',\n",
    "                         'Minnesota City', 'Mississippi City', 'Missouri City', 'Montana City', 'Nebraska City',\n",
    "                         'Nevada City', 'New York City', 'Ohio City', 'Oklahoma City', 'Tennessee City', 'Texas City',\n",
    "                         'Utah City', 'Virginia City', 'Virginia Beach'}\n",
    "\n",
    "# Make a capitalized list\n",
    "exceptional_city_name = [x.upper() for x in exceptional_city_name]\n",
    "print(exceptional_city_name)\n",
    "\n",
    "tokens = re.split(':| |,|/|-', x)\n",
    "# Capitalize tokens\n",
    "tokens = [e.upper() for e in tokens]\n",
    "\n",
    "print(tokens)\n",
    "print(type(exceptional_city_name))\n"
   ]
  },
  {
   "cell_type": "code",
   "execution_count": 2,
   "metadata": {},
   "outputs": [
    {
     "name": "stdout",
     "output_type": "stream",
     "text": [
      "<1st If> INDIANAPOLIS, INDIANA\n",
      "1-1 CASE State:  INDIANA Words:  POLIS, \n"
     ]
    }
   ],
   "source": [
    "if any(state in x.upper() for state in states):\n",
    "    print('<1st If>', x.upper())\n",
    "    #if exceptional_city_name in x.upper():\n",
    "    if x.upper() in exceptional_city_name:\n",
    "        tokens = tokens.upper()\n",
    "        state = tokens.reverse()\n",
    "        print(state)\n",
    "        state = next(word for word in tokens if word.upper() in all_states)\n",
    "        print(\"State: \", state, \", Exceptional case\")\n",
    "        words = x.replace(state, '')\n",
    "        print(\"Words: \", words)\n",
    "\n",
    "    else:\n",
    "        state = next(state for state in states if state in x.upper())\n",
    "        words = x.upper().replace(state, '')\n",
    "        print('1-1 CASE', \"State: \", state, \"Words: \", words)\n",
    "        \n",
    "elif any(word.upper() in all_states for word in tokens):\n",
    "    print('<2nd if>')\n",
    "    tokens.reverse() \n",
    "    state = next(word for word in tokens if word.upper() in all_states)\n",
    "    words = x.replace(state, '')\n",
    "    print(\"State: \", state, \"Words: \", words)\n",
    "\n",
    "else:\n",
    "        words = x\n",
    "        words = words.replace(',','').replace(':','').replace('/','').strip()\n",
    "        #if not(ap.parse_address(x).house_number and ap.parse_address(x).street) and len(words.strip()) < 30 and any(i.isalpha() for i in words) and words.lower() != 'none':\n",
    "        print(words.lower())\n",
    "\n",
    "\n",
    "\n",
    "\n"
   ]
  },
  {
   "cell_type": "code",
   "execution_count": 86,
   "metadata": {},
   "outputs": [
    {
     "name": "stdout",
     "output_type": "stream",
     "text": [
      "['IDAHO CITY', 'NEW YORK CITY', 'OKLAHOMA CITY', 'INDIANAPOLIS', 'FLORIDA CITY', 'NEW GEORGIA', 'DELAWARE CITY', 'COLORADO CITY', 'CALIFORNIA CITY']\n",
      "['IDAHO CITY', 'NEW YORK CITY', 'OKLAHOMA CITY', 'INDIANAPOLIS', 'FLORIDA CITY', 'NEW GEORGIA', 'DELAWARE CITY', 'COLORADO CITY', 'CALIFORNIA CITY']\n"
     ]
    }
   ],
   "source": [
    "print(exceptional_city_name)\n",
    "exceptional_city_name = [x.upper() for x in exceptional_city_name]\n",
    "print(exceptional_city_name)"
   ]
  },
  {
   "cell_type": "code",
   "execution_count": 119,
   "metadata": {},
   "outputs": [
    {
     "data": {
      "text/plain": [
       "False"
      ]
     },
     "execution_count": 119,
     "metadata": {},
     "output_type": "execute_result"
    }
   ],
   "source": [
    "'indianapolis' in exceptional_city_name"
   ]
  },
  {
   "cell_type": "code",
   "execution_count": 97,
   "metadata": {},
   "outputs": [
    {
     "data": {
      "text/plain": [
       "str"
      ]
     },
     "execution_count": 97,
     "metadata": {},
     "output_type": "execute_result"
    }
   ],
   "source": [
    "type(x.upper())"
   ]
  },
  {
   "cell_type": "code",
   "execution_count": 121,
   "metadata": {},
   "outputs": [
    {
     "data": {
      "text/plain": [
       "True"
      ]
     },
     "execution_count": 121,
     "metadata": {},
     "output_type": "execute_result"
    }
   ],
   "source": [
    "x = 'indianapolis'\n",
    "\n",
    "x.upper() in exceptional_city_name\n",
    "\n"
   ]
  },
  {
   "cell_type": "code",
   "execution_count": 100,
   "metadata": {},
   "outputs": [
    {
     "data": {
      "text/plain": [
       "list"
      ]
     },
     "execution_count": 100,
     "metadata": {},
     "output_type": "execute_result"
    }
   ],
   "source": [
    "l = ['soo', 'eun']\n",
    "x = 'soo'\n",
    "x in l\n",
    "type(l)"
   ]
  },
  {
   "cell_type": "code",
   "execution_count": 144,
   "metadata": {},
   "outputs": [
    {
     "data": {
      "text/plain": [
       "True"
      ]
     },
     "execution_count": 144,
     "metadata": {},
     "output_type": "execute_result"
    }
   ],
   "source": [
    "tokens[0] in exceptional_city_name"
   ]
  },
  {
   "cell_type": "code",
   "execution_count": 133,
   "metadata": {},
   "outputs": [
    {
     "data": {
      "text/plain": [
       "True"
      ]
     },
     "execution_count": 133,
     "metadata": {},
     "output_type": "execute_result"
    }
   ],
   "source": [
    "'indianapolis'.upper() in exceptional_city_name"
   ]
  },
  {
   "cell_type": "code",
   "execution_count": 143,
   "metadata": {},
   "outputs": [
    {
     "data": {
      "text/plain": [
       "str"
      ]
     },
     "execution_count": 143,
     "metadata": {},
     "output_type": "execute_result"
    }
   ],
   "source": []
  },
  {
   "cell_type": "code",
   "execution_count": null,
   "metadata": {},
   "outputs": [],
   "source": []
  }
 ],
 "metadata": {
  "kernelspec": {
   "display_name": "Python 3",
   "language": "python",
   "name": "python3"
  },
  "language_info": {
   "codemirror_mode": {
    "name": "ipython",
    "version": 3
   },
   "file_extension": ".py",
   "mimetype": "text/x-python",
   "name": "python",
   "nbconvert_exporter": "python",
   "pygments_lexer": "ipython3",
   "version": "3.7.1"
  }
 },
 "nbformat": 4,
 "nbformat_minor": 2
}
