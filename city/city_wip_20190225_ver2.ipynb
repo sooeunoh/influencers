{
 "cells": [
  {
   "cell_type": "code",
   "execution_count": 45,
   "metadata": {},
   "outputs": [],
   "source": [
    "import re\n",
    "\n",
    "\n",
    "def city(x):\n",
    "\n",
    "    dist = {'ALABAMA': 'AL', 'ALASKA': 'AK', 'ARIZONA': 'AZ', 'ARKANSAS': 'AR', 'CALIFORNIA': 'CA', 'COLORADO': 'CO', 'CONNECTICUT': 'CT', 'DELAWARE': 'DE', 'FLORIDA': 'FL', 'GEORGIA': 'GA', 'HAWAII': 'HI', 'IDAHO': 'ID', 'ILLINOIS': 'IL', 'INDIANA': 'IN', 'IOWA': 'IA', 'KANSAS': 'KS', 'KENTUCKY': 'KY', 'LOUISIANA': 'LA', 'MAINE': 'ME', 'MARYLAND': 'MD', 'MASSACHUSETTS': 'MA', 'MICHIGAN': 'MI', 'MINNESOTA': 'MN', 'MISSISSIPPI': 'MS', 'MISSOURI': 'MO', 'MONTANA': 'MT', 'NEBRASKA': 'NE', 'NEVADA': 'NV', 'NEW HAMPSHIRE': 'NH', 'NEW JERSEY': 'NJ', 'NEW MEXICO': 'NM', 'NEW YORK': 'NY', 'NORTH CAROLINA': 'NC', 'NORTH DAKOTA': 'ND', 'OHIO': 'OH', 'OKLAHOMA': 'OK', 'OREGON': 'OR', 'PENNSYLVANIA': 'PA', 'RHODE ISLAND': 'RI', 'SOUTH CAROLINA': 'SC', 'SOUTH DAKOTA': 'SD', 'TENNESSEE': 'TN', 'TEXAS': 'TX', 'UTAH': 'UT', 'VERMONT': 'VT', 'VIRGINIA': 'VA', 'WASHINGTON': 'WA', 'WEST VIRGINIA': 'WV', 'WISCONSIN': 'WI', 'WYOMING': 'WY', 'DISTRICT OF COLUMBIA': 'DC', 'ALA.': 'AL', 'ALASKA': 'AK', 'ARIZ.': 'AZ', 'ARK.': 'AR', 'CALIF.': 'CA', 'COLO.': 'CO', 'CONN.': 'CT', 'DEL.': 'DE', 'FLA.': 'FL', 'GA.': 'GA', 'HAWAII': 'HI', 'IDAHO': 'ID', 'ILL.': 'IL', 'IND.': 'IN', 'IOWA': 'IA', 'KAN.': 'KS', 'KY.': 'KY', 'LA.': 'LA', 'MAINE': 'ME', 'MD.': 'MD', 'MASS.': 'MA', 'MICH.': 'MI', 'MINN.': 'MN', 'MISS.': 'MS', 'MO.': 'MO', 'MONT.': 'MT', 'NEB.': 'NE', 'NEV.': 'NV', 'N.H.': 'NH', 'N.J.': 'NJ', 'N.M.': 'NM', 'N.Y.': 'NY', 'N.C.': 'NC', 'N.D.': 'ND', 'OHIO': 'OH', 'OKLA.': 'OK', 'ORE.': 'OR', 'PA.': 'PA', 'R.I.': 'RI', 'S.C.': 'SC', 'S.D.': 'SD', 'TENN.': 'TN', 'TEXAS': 'TX', 'UTAH': 'UT', 'VT.': 'VT', 'VA.': 'VA', 'WASH.': 'WA', 'W.VA.': 'WV', 'WIS.': 'WI', 'WYO.': 'WY', 'D.C.': 'DC'}\n",
    "    states = list(set(dist.keys()))\n",
    "    state_posts = list(set(dist.values()))\n",
    "    all_states = states+state_posts\n",
    "    try:\n",
    "       raise\n",
    "\n",
    "    except:\n",
    "        \n",
    "        for exceptional_city_name in exceptional_city_names:\n",
    "            if exceptional_city_name in x.upper():\n",
    "                print(exceptional_city_name, \"Exceptional Case\")\n",
    "                return exceptional_city_name\n",
    "        \n",
    "        if any(word.upper() in all_states for word in re.split(':| |,|/|-', x)):\n",
    "            a = re.split(':| |,|/|-', x)\n",
    "            a.reverse()\n",
    "            state = next(word for word in a if word.upper() in all_states)\n",
    "            words = x.replace(state, '')\n",
    "        if any(state in x.upper() for state in states):\n",
    "            state = next(state for state in states if state in x.upper())\n",
    "            words = x.upper().replace(state, '')\n",
    "        else:\n",
    "            words = x\n",
    "        words = words.replace(',','').replace(':','').replace('/','').strip()\n",
    "        #if not(ap.parse_address(x).house_number and ap.parse_address(x).street) and len(words.strip()) < 30 and any(i.isalpha() for i in words) and words.lower() != 'none':\n",
    "        return words.lower()\n",
    "        return None    "
   ]
  },
  {
   "cell_type": "code",
   "execution_count": 69,
   "metadata": {},
   "outputs": [
    {
     "name": "stdout",
     "output_type": "stream",
     "text": [
      "Possible state names:  ['INDIANA']\n",
      "INDIANAPOLIS\n",
      "Possible state names:  ['NEW YORK']\n",
      "NEW YORK CITY\n",
      "Possible state names:  ['NEW YORK', 'NY']\n",
      "NEW YORK\n",
      "Possible state names:  ['NEW YORK', 'NY']\n",
      "NEW YORK\n"
     ]
    }
   ],
   "source": [
    "def city(x):\n",
    "    dist = {'ALABAMA': 'AL', 'ALASKA': 'AK', 'ARIZONA': 'AZ', 'ARKANSAS': 'AR', 'CALIFORNIA': 'CA', 'COLORADO': 'CO', 'CONNECTICUT': 'CT', 'DELAWARE': 'DE', 'FLORIDA': 'FL', 'GEORGIA': 'GA', 'HAWAII': 'HI', 'IDAHO': 'ID', 'ILLINOIS': 'IL', 'INDIANA': 'IN', 'IOWA': 'IA', 'KANSAS': 'KS', 'KENTUCKY': 'KY', 'LOUISIANA': 'LA', 'MAINE': 'ME', 'MARYLAND': 'MD', 'MASSACHUSETTS': 'MA', 'MICHIGAN': 'MI', 'MINNESOTA': 'MN', 'MISSISSIPPI': 'MS', 'MISSOURI': 'MO', 'MONTANA': 'MT', 'NEBRASKA': 'NE', 'NEVADA': 'NV', 'NEW HAMPSHIRE': 'NH', 'NEW JERSEY': 'NJ', 'NEW MEXICO': 'NM', 'NEW YORK': 'NY', 'NORTH CAROLINA': 'NC', 'NORTH DAKOTA': 'ND', 'OHIO': 'OH', 'OKLAHOMA': 'OK', 'OREGON': 'OR', 'PENNSYLVANIA': 'PA', 'RHODE ISLAND': 'RI', 'SOUTH CAROLINA': 'SC', 'SOUTH DAKOTA': 'SD', 'TENNESSEE': 'TN', 'TEXAS': 'TX', 'UTAH': 'UT', 'VERMONT': 'VT', 'VIRGINIA': 'VA', 'WASHINGTON': 'WA', 'WEST VIRGINIA': 'WV', 'WISCONSIN': 'WI', 'WYOMING': 'WY', 'DISTRICT OF COLUMBIA': 'DC', 'ALA.': 'AL', 'ALASKA': 'AK', 'ARIZ.': 'AZ', 'ARK.': 'AR', 'CALIF.': 'CA', 'COLO.': 'CO', 'CONN.': 'CT', 'DEL.': 'DE', 'FLA.': 'FL', 'GA.': 'GA', 'HAWAII': 'HI', 'IDAHO': 'ID', 'ILL.': 'IL', 'IND.': 'IN', 'IOWA': 'IA', 'KAN.': 'KS', 'KY.': 'KY', 'LA.': 'LA', 'MAINE': 'ME', 'MD.': 'MD', 'MASS.': 'MA', 'MICH.': 'MI', 'MINN.': 'MN', 'MISS.': 'MS', 'MO.': 'MO', 'MONT.': 'MT', 'NEB.': 'NE', 'NEV.': 'NV', 'N.H.': 'NH', 'N.J.': 'NJ', 'N.M.': 'NM', 'N.Y.': 'NY', 'N.C.': 'NC', 'N.D.': 'ND', 'OHIO': 'OH', 'OKLA.': 'OK', 'ORE.': 'OR', 'PA.': 'PA', 'R.I.': 'RI', 'S.C.': 'SC', 'S.D.': 'SD', 'TENN.': 'TN', 'TEXAS': 'TX', 'UTAH': 'UT', 'VT.': 'VT', 'VA.': 'VA', 'WASH.': 'WA', 'W.VA.': 'WV', 'WIS.': 'WI', 'WYO.': 'WY', 'D.C.': 'DC'}\n",
    "    states = list(set(dist.keys()))\n",
    "    state_posts = list(set(dist.values()))\n",
    "    all_states = states+state_posts\n",
    "    try:\n",
    "        raise\n",
    "    except:\n",
    "        tokens = [token.upper().strip() for token in re.split(':|,|/|-', x)]\n",
    "        possible_state_names = [token for token in tokens if token in all_states]\n",
    "        if not possible_state_names: #empty\n",
    "            print('No possible State Name!')\n",
    "            return x.replace(',','').replace(':','').replace('/','').strip()\n",
    "        else:\n",
    "            print('Possible state names: ', possible_state_names)\n",
    "            tokens.reverse()\n",
    "            for i, token in enumerate(tokens):\n",
    "                if token in possible_state_names:\n",
    "                    return tokens[i+1]\n",
    "        \n",
    "\n",
    "print(city('indianapolis, Indiana'))\n",
    "print(city('New York City, New York'))\n",
    "print(city('New York, NY'))\n",
    "print(city('107 Some Road, New York, NY'))"
   ]
  },
  {
   "cell_type": "code",
   "execution_count": 46,
   "metadata": {
    "scrolled": true
   },
   "outputs": [
    {
     "name": "stdout",
     "output_type": "stream",
     "text": [
      "INDIANAPOLIS Exceptional Case\n",
      "INDIANAPOLIS\n",
      "NEW YORK CITY Exceptional Case\n",
      "NEW YORK CITY\n",
      "ny\n"
     ]
    }
   ],
   "source": [
    "print(city('indianapolis, Indiana'))\n",
    "print(city('New York City, New York'))\n",
    "print(city('New York, NY'))"
   ]
  },
  {
   "cell_type": "code",
   "execution_count": null,
   "metadata": {},
   "outputs": [],
   "source": [
    "시티 빼고 시티 쓸때: {NEW YORK: NY, FLORIDA: TEXAS, ...}\n",
    "    "
   ]
  },
  {
   "cell_type": "code",
   "execution_count": 23,
   "metadata": {
    "scrolled": true
   },
   "outputs": [
    {
     "name": "stdout",
     "output_type": "stream",
     "text": [
      "['MONTANA CITY', 'VIRGINIA BEACH', 'IOWA CITY', 'COLORADO CITY', 'IDAHO CITY', 'NEBRASKA CITY', 'INDIANAPOLIS', 'DELAWARE CITY', 'UTAH CITY', 'ILLINOIS CITY', 'TEXAS CITY', 'NEW YORK CITY', 'OKLAHOMA CITY', 'NEVADA CITY', 'NEW YORK CITY', 'NEW GEORGIA', 'VIRGINIA CITY', 'JERSEY CITY', 'KANSAS CITY', 'MISSOURI CITY', 'OHIO CITY', 'MISSISSIPPI CITY', 'CALIFORNIA CITY', 'FLORIDA CITY', 'MARYLAND CITY', 'MINNESOTA CITY', 'OKLAHOMA CITY', 'TENNESSEE CITY']\n",
      "['INDIANAPOLIS', '', 'INDIANA']\n",
      "<class 'list'>\n"
     ]
    }
   ],
   "source": [
    "import re\n",
    "dist = {'ALABAMA': 'AL', 'ALASKA': 'AK', 'ARIZONA': 'AZ', 'ARKANSAS': 'AR', 'CALIFORNIA': 'CA', 'COLORADO': 'CO', 'CONNECTICUT': 'CT', 'DELAWARE': 'DE', 'FLORIDA': 'FL', 'GEORGIA': 'GA', 'HAWAII': 'HI', 'IDAHO': 'ID', 'ILLINOIS': 'IL', 'INDIANA': 'IN', 'IOWA': 'IA', 'KANSAS': 'KS', 'KENTUCKY': 'KY', 'LOUISIANA': 'LA', 'MAINE': 'ME', 'MARYLAND': 'MD', 'MASSACHUSETTS': 'MA', 'MICHIGAN': 'MI', 'MINNESOTA': 'MN', 'MISSISSIPPI': 'MS', 'MISSOURI': 'MO', 'MONTANA': 'MT', 'NEBRASKA': 'NE', 'NEVADA': 'NV', 'NEW HAMPSHIRE': 'NH', 'NEW JERSEY': 'NJ', 'NEW MEXICO': 'NM', 'NEW YORK': 'NY', 'NORTH CAROLINA': 'NC', 'NORTH DAKOTA': 'ND', 'OHIO': 'OH', 'OKLAHOMA': 'OK', 'OREGON': 'OR', 'PENNSYLVANIA': 'PA', 'RHODE ISLAND': 'RI', 'SOUTH CAROLINA': 'SC', 'SOUTH DAKOTA': 'SD', 'TENNESSEE': 'TN', 'TEXAS': 'TX', 'UTAH': 'UT', 'VERMONT': 'VT', 'VIRGINIA': 'VA', 'WASHINGTON': 'WA', 'WEST VIRGINIA': 'WV', 'WISCONSIN': 'WI', 'WYOMING': 'WY', 'DISTRICT OF COLUMBIA': 'DC', 'ALA.': 'AL', 'ALASKA': 'AK', 'ARIZ.': 'AZ', 'ARK.': 'AR', 'CALIF.': 'CA', 'COLO.': 'CO', 'CONN.': 'CT', 'DEL.': 'DE', 'FLA.': 'FL', 'GA.': 'GA', 'HAWAII': 'HI', 'IDAHO': 'ID', 'ILL.': 'IL', 'IND.': 'IN', 'IOWA': 'IA', 'KAN.': 'KS', 'KY.': 'KY', 'LA.': 'LA', 'MAINE': 'ME', 'MD.': 'MD', 'MASS.': 'MA', 'MICH.': 'MI', 'MINN.': 'MN', 'MISS.': 'MS', 'MO.': 'MO', 'MONT.': 'MT', 'NEB.': 'NE', 'NEV.': 'NV', 'N.H.': 'NH', 'N.J.': 'NJ', 'N.M.': 'NM', 'N.Y.': 'NY', 'N.C.': 'NC', 'N.D.': 'ND', 'OHIO': 'OH', 'OKLA.': 'OK', 'ORE.': 'OR', 'PA.': 'PA', 'R.I.': 'RI', 'S.C.': 'SC', 'S.D.': 'SD', 'TENN.': 'TN', 'TEXAS': 'TX', 'UTAH': 'UT', 'VT.': 'VT', 'VA.': 'VA', 'WASH.': 'WA', 'W.VA.': 'WV', 'WIS.': 'WI', 'WYO.': 'WY', 'D.C.': 'DC'}\n",
    "states = list(set(dist.keys()))\n",
    "state_posts = list(set(dist.values()))\n",
    "all_states = states+state_posts\n",
    "\n",
    "x = \"indianapolis, Indiana\"\n",
    "\n",
    "#exceptional_city_name = \"New York City\" \n",
    "exceptional_city_names = {'new york city', 'oklahoma city', 'indianapolis', 'California City', 'Colorado City',\n",
    "                        'Delaware City', 'Florida City', 'New Georgia', 'Idaho City', 'Illinois City', 'Iowa City',\n",
    "                         'Jersey City', 'Jersey City', 'Kansas City', 'Maryland City', 'Minnesota City', 'Minnesota City',\n",
    "                         'Minnesota City', 'Mississippi City', 'Missouri City', 'Montana City', 'Nebraska City',\n",
    "                         'Nevada City', 'New York City', 'Ohio City', 'Oklahoma City', 'Tennessee City', 'Texas City',\n",
    "                         'Utah City', 'Virginia City', 'Virginia Beach'}\n",
    "\n",
    "# Make a capitalized list\n",
    "exceptional_city_names = [x.upper() for x in exceptional_city_names]\n",
    "print(exceptional_city_names)\n",
    "\n",
    "tokens = re.split(':| |,|/|-', x)\n",
    "# Capitalize tokens\n",
    "tokens = [e.upper() for e in tokens]\n",
    "\n",
    "print(tokens)\n",
    "print(type(exceptional_city_names))\n"
   ]
  },
  {
   "cell_type": "code",
   "execution_count": 2,
   "metadata": {},
   "outputs": [
    {
     "name": "stdout",
     "output_type": "stream",
     "text": [
      "<1st If> INDIANAPOLIS, INDIANA\n",
      "1-1 CASE State:  INDIANA Words:  POLIS, \n"
     ]
    }
   ],
   "source": [
    "# x: 'indianapolis, indiana'\n",
    "if any(state in x.upper() for state in states):\n",
    "    print('<1st If>', x.upper())\n",
    "    #if exceptional_city_name in x.upper():\n",
    "    \n",
    "    for exceptional_city_name in exceptional_city_names:\n",
    "        if exceptional_city_name in x.upper():\n",
    "            print(exceptional_city_name, \"Exceptional Case\")\n",
    "            return exceptonal_city_name\n",
    "    \n",
    "    state = next(state for state in states if state in x.upper())\n",
    "    words = x.upper().replace(state, '')\n",
    "    print('1-1 CASE', \"State: \", state, \"Words: \", words)\n",
    "    \n",
    "    \n",
    "    \n",
    "# elif any(word.upper() in all_states for word in tokens):\n",
    "#     print('<2nd if>')\n",
    "#     tokens.reverse() \n",
    "#     state = next(word for word in tokens if word.upper() in all_states)\n",
    "#     words = x.replace(state, '')\n",
    "#     print(\"State: \", state, \"Words: \", words)\n",
    "\n",
    "    \n",
    "    \n",
    "else:\n",
    "        words = x\n",
    "        words = words.replace(',','').replace(':','').replace('/','').strip()\n",
    "        #if not(ap.parse_address(x).house_number and ap.parse_address(x).street) and len(words.strip()) < 30 and any(i.isalpha() for i in words) and words.lower() != 'none':\n",
    "        print(words.lower())\n",
    "\n",
    "\n",
    "\n",
    "if ...1\n",
    "elif ... # 1이 만족되지 않았을때\n",
    "\n",
    "for...\n",
    "    if ...\n",
    "        valid = true\n",
    "\n",
    "if not valid ... #위의 if가 모두 만족되지 않았을때\n",
    "\n",
    "# flag 변수\n",
    "\n",
    "for ...\n",
    "    if...\n",
    "        break\n",
    "else ... #for문에서 break가 한 번도 실행되지 않았으면 else로 들어감\n",
    "\n",
    "\n",
    "def f()\n",
    "    for\n",
    "        if\n",
    "            return\n",
    "    kjkjk\n",
    "        \n"
   ]
  },
  {
   "cell_type": "code",
   "execution_count": 19,
   "metadata": {},
   "outputs": [
    {
     "name": "stdout",
     "output_type": "stream",
     "text": [
      "8\n",
      "False\n"
     ]
    }
   ],
   "source": [
    "if any(e in x.upper() for e in exceptional_city_name):\n",
    "    # exceptional 을 돌면서 하나하나가 x.upper()에 있는지 확인.\n",
    "for e in exceptional_city_name:\n",
    "    if e in x.upper():\n",
    "        print(e, \"Exceptional Case\")\n",
    "    \n",
    "    \n",
    "    \n",
    "    \n",
    "l = [1, 2, 8, 3, 5]\n",
    "for i in l:\n",
    "    if i > 7:\n",
    "        print(i)\n",
    "\n",
    "        [False, False, True, False, False]\n",
    "        [7]\n",
    "        \n",
    "if any(i > 7 for i in l):\n",
    "    d = next(i for i in l if i > 7)\n",
    "    print(d)"
   ]
  },
  {
   "cell_type": "code",
   "execution_count": 24,
   "metadata": {},
   "outputs": [
    {
     "name": "stdout",
     "output_type": "stream",
     "text": [
      "<1st If> INDIANAPOLIS, INDIANA\n",
      "INDIANAPOLIS Exceptional Case\n"
     ]
    }
   ],
   "source": [
    "if any(state in x.upper() for state in states):\n",
    "    print('<1st If>', x.upper())\n",
    "    #if exceptional_city_name in x.upper():\n",
    "    \n",
    "    \n",
    "    \n",
    "    for exceptional_city_name in exceptional_city_names:\n",
    "        if exceptional_city_name in x.upper():\n",
    "            print(exceptional_city_name, \"Exceptional Case\")"
   ]
  },
  {
   "cell_type": "code",
   "execution_count": null,
   "metadata": {},
   "outputs": [],
   "source": []
  },
  {
   "cell_type": "code",
   "execution_count": 4,
   "metadata": {},
   "outputs": [
    {
     "name": "stdout",
     "output_type": "stream",
     "text": [
      "<1st If> INDIANAPOLIS, INDIANA\n"
     ]
    }
   ],
   "source": [
    "if any(state in x.upper() for state in states):\n",
    "    print('<1st If>', x.upper())\n",
    "    #if exceptional_city_name in x.upper():"
   ]
  },
  {
   "cell_type": "code",
   "execution_count": 5,
   "metadata": {},
   "outputs": [
    {
     "name": "stdout",
     "output_type": "stream",
     "text": [
      "3\n",
      "None\n"
     ]
    }
   ],
   "source": [
    "print(print(3))"
   ]
  },
  {
   "cell_type": "code",
   "execution_count": null,
   "metadata": {},
   "outputs": [],
   "source": []
  },
  {
   "cell_type": "code",
   "execution_count": null,
   "metadata": {},
   "outputs": [],
   "source": []
  },
  {
   "cell_type": "code",
   "execution_count": null,
   "metadata": {},
   "outputs": [],
   "source": []
  },
  {
   "cell_type": "code",
   "execution_count": null,
   "metadata": {},
   "outputs": [],
   "source": []
  },
  {
   "cell_type": "code",
   "execution_count": null,
   "metadata": {},
   "outputs": [],
   "source": []
  },
  {
   "cell_type": "code",
   "execution_count": null,
   "metadata": {},
   "outputs": [],
   "source": []
  },
  {
   "cell_type": "code",
   "execution_count": 86,
   "metadata": {},
   "outputs": [
    {
     "name": "stdout",
     "output_type": "stream",
     "text": [
      "['IDAHO CITY', 'NEW YORK CITY', 'OKLAHOMA CITY', 'INDIANAPOLIS', 'FLORIDA CITY', 'NEW GEORGIA', 'DELAWARE CITY', 'COLORADO CITY', 'CALIFORNIA CITY']\n",
      "['IDAHO CITY', 'NEW YORK CITY', 'OKLAHOMA CITY', 'INDIANAPOLIS', 'FLORIDA CITY', 'NEW GEORGIA', 'DELAWARE CITY', 'COLORADO CITY', 'CALIFORNIA CITY']\n"
     ]
    }
   ],
   "source": [
    "print(exceptional_city_name)\n",
    "exceptional_city_name = [x.upper() for x in exceptional_city_name]\n",
    "print(exceptional_city_name)"
   ]
  },
  {
   "cell_type": "code",
   "execution_count": 119,
   "metadata": {},
   "outputs": [
    {
     "data": {
      "text/plain": [
       "False"
      ]
     },
     "execution_count": 119,
     "metadata": {},
     "output_type": "execute_result"
    }
   ],
   "source": [
    "'indianapolis' in exceptional_city_name"
   ]
  },
  {
   "cell_type": "code",
   "execution_count": 97,
   "metadata": {},
   "outputs": [
    {
     "data": {
      "text/plain": [
       "str"
      ]
     },
     "execution_count": 97,
     "metadata": {},
     "output_type": "execute_result"
    }
   ],
   "source": [
    "type(x.upper())"
   ]
  },
  {
   "cell_type": "code",
   "execution_count": 121,
   "metadata": {},
   "outputs": [
    {
     "data": {
      "text/plain": [
       "True"
      ]
     },
     "execution_count": 121,
     "metadata": {},
     "output_type": "execute_result"
    }
   ],
   "source": [
    "x = 'indianapolis'\n",
    "\n",
    "x.upper() in exceptional_city_name\n",
    "\n"
   ]
  },
  {
   "cell_type": "code",
   "execution_count": 100,
   "metadata": {},
   "outputs": [
    {
     "data": {
      "text/plain": [
       "list"
      ]
     },
     "execution_count": 100,
     "metadata": {},
     "output_type": "execute_result"
    }
   ],
   "source": [
    "l = ['soo', 'eun']\n",
    "x = 'soo'\n",
    "x in l\n",
    "type(l)"
   ]
  },
  {
   "cell_type": "code",
   "execution_count": 144,
   "metadata": {},
   "outputs": [
    {
     "data": {
      "text/plain": [
       "True"
      ]
     },
     "execution_count": 144,
     "metadata": {},
     "output_type": "execute_result"
    }
   ],
   "source": [
    "tokens[0] in exceptional_city_name"
   ]
  },
  {
   "cell_type": "code",
   "execution_count": 133,
   "metadata": {},
   "outputs": [
    {
     "data": {
      "text/plain": [
       "True"
      ]
     },
     "execution_count": 133,
     "metadata": {},
     "output_type": "execute_result"
    }
   ],
   "source": [
    "'indianapolis'.upper() in exceptional_city_name"
   ]
  },
  {
   "cell_type": "code",
   "execution_count": 143,
   "metadata": {},
   "outputs": [
    {
     "data": {
      "text/plain": [
       "str"
      ]
     },
     "execution_count": 143,
     "metadata": {},
     "output_type": "execute_result"
    }
   ],
   "source": []
  },
  {
   "cell_type": "code",
   "execution_count": null,
   "metadata": {},
   "outputs": [],
   "source": []
  }
 ],
 "metadata": {
  "kernelspec": {
   "display_name": "Python 3",
   "language": "python",
   "name": "python3"
  },
  "language_info": {
   "codemirror_mode": {
    "name": "ipython",
    "version": 3
   },
   "file_extension": ".py",
   "mimetype": "text/x-python",
   "name": "python",
   "nbconvert_exporter": "python",
   "pygments_lexer": "ipython3",
   "version": "3.5.6"
  }
 },
 "nbformat": 4,
 "nbformat_minor": 2
}
