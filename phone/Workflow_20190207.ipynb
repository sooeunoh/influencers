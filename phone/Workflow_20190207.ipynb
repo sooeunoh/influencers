{
 "cells": [
  {
   "cell_type": "markdown",
   "metadata": {},
   "source": [
    "### Load the packages"
   ]
  },
  {
   "cell_type": "code",
   "execution_count": 72,
   "metadata": {},
   "outputs": [],
   "source": [
    "import re\n",
    "import pandas as pd"
   ]
  },
  {
   "cell_type": "markdown",
   "metadata": {},
   "source": [
    "### Load the file"
   ]
  },
  {
   "cell_type": "code",
   "execution_count": 73,
   "metadata": {},
   "outputs": [
    {
     "data": {
      "text/plain": [
       "(2713, 3)"
      ]
     },
     "execution_count": 73,
     "metadata": {},
     "output_type": "execute_result"
    }
   ],
   "source": [
    "df = pd.read_csv(\"us-area-code-cities_cleaned.csv\")\n",
    "df.shape"
   ]
  },
  {
   "cell_type": "code",
   "execution_count": 74,
   "metadata": {},
   "outputs": [
    {
     "data": {
      "text/html": [
       "<div>\n",
       "<style scoped>\n",
       "    .dataframe tbody tr th:only-of-type {\n",
       "        vertical-align: middle;\n",
       "    }\n",
       "\n",
       "    .dataframe tbody tr th {\n",
       "        vertical-align: top;\n",
       "    }\n",
       "\n",
       "    .dataframe thead th {\n",
       "        text-align: right;\n",
       "    }\n",
       "</style>\n",
       "<table border=\"1\" class=\"dataframe\">\n",
       "  <thead>\n",
       "    <tr style=\"text-align: right;\">\n",
       "      <th></th>\n",
       "      <th>area_code</th>\n",
       "      <th>city</th>\n",
       "      <th>state_code</th>\n",
       "    </tr>\n",
       "  </thead>\n",
       "  <tbody>\n",
       "    <tr>\n",
       "      <th>0</th>\n",
       "      <td>201</td>\n",
       "      <td>Bayonne</td>\n",
       "      <td>NJ</td>\n",
       "    </tr>\n",
       "    <tr>\n",
       "      <th>1</th>\n",
       "      <td>201</td>\n",
       "      <td>Bergenfield</td>\n",
       "      <td>NJ</td>\n",
       "    </tr>\n",
       "    <tr>\n",
       "      <th>2</th>\n",
       "      <td>201</td>\n",
       "      <td>Cliffside Park</td>\n",
       "      <td>NJ</td>\n",
       "    </tr>\n",
       "    <tr>\n",
       "      <th>3</th>\n",
       "      <td>201</td>\n",
       "      <td>Englewood</td>\n",
       "      <td>NJ</td>\n",
       "    </tr>\n",
       "    <tr>\n",
       "      <th>4</th>\n",
       "      <td>201</td>\n",
       "      <td>Fair Lawn</td>\n",
       "      <td>NJ</td>\n",
       "    </tr>\n",
       "  </tbody>\n",
       "</table>\n",
       "</div>"
      ],
      "text/plain": [
       "   area_code            city state_code\n",
       "0        201         Bayonne         NJ\n",
       "1        201     Bergenfield         NJ\n",
       "2        201  Cliffside Park         NJ\n",
       "3        201       Englewood         NJ\n",
       "4        201       Fair Lawn         NJ"
      ]
     },
     "execution_count": 74,
     "metadata": {},
     "output_type": "execute_result"
    }
   ],
   "source": [
    "df.head()"
   ]
  },
  {
   "cell_type": "code",
   "execution_count": 75,
   "metadata": {},
   "outputs": [
    {
     "name": "stdout",
     "output_type": "stream",
     "text": [
      "      area_code state_code\n",
      "0           201         NJ\n",
      "1           201         NJ\n",
      "2           201         NJ\n",
      "3           201         NJ\n",
      "4           201         NJ\n",
      "5           201         NJ\n",
      "6           201         NJ\n",
      "7           201         NJ\n",
      "8           201         NJ\n",
      "9           201         NJ\n",
      "10          201         NJ\n",
      "11          201         NJ\n",
      "12          201         NJ\n",
      "13          201         NJ\n",
      "14          201         NJ\n",
      "15          201         NJ\n",
      "16          202         DC\n",
      "17          203         CT\n",
      "18          203         CT\n",
      "19          203         CT\n",
      "20          203         CT\n",
      "21          203         CT\n",
      "22          203         CT\n",
      "23          203         CT\n",
      "24          203         CT\n",
      "25          203         CT\n",
      "26          203         CT\n",
      "27          203         CT\n",
      "28          203         CT\n",
      "29          203         CT\n",
      "...         ...        ...\n",
      "2683        980         NC\n",
      "2684        980         NC\n",
      "2685        980         NC\n",
      "2686        980         NC\n",
      "2687        980         NC\n",
      "2688        980         NC\n",
      "2689        980         NC\n",
      "2690        980         NC\n",
      "2691        980         NC\n",
      "2692        984         NC\n",
      "2693        984         NC\n",
      "2694        984         NC\n",
      "2695        984         NC\n",
      "2696        984         NC\n",
      "2697        984         NC\n",
      "2698        984         NC\n",
      "2699        985         LA\n",
      "2700        985         LA\n",
      "2701        985         LA\n",
      "2702        989         MI\n",
      "2703        989         MI\n",
      "2704        989         MI\n",
      "2705        989         MI\n",
      "2706        854         SC\n",
      "2707        854         SC\n",
      "2708        854         SC\n",
      "2709        854         SC\n",
      "2710        854         SC\n",
      "2711        854         SC\n",
      "2712        854         SC\n",
      "\n",
      "[2713 rows x 2 columns]\n"
     ]
    }
   ],
   "source": [
    "# Drop the city column\n",
    "df2 = df.drop(['city'], axis=1)\n",
    "print(df2)"
   ]
  },
  {
   "cell_type": "code",
   "execution_count": 78,
   "metadata": {},
   "outputs": [],
   "source": [
    "#df2.set_index('area_code').to_dict()\n",
    "#df2.to_dict('dict')\n",
    "dict = df2.set_index('area_code')['state_code'].to_dict()"
   ]
  },
  {
   "cell_type": "code",
   "execution_count": 79,
   "metadata": {},
   "outputs": [
    {
     "data": {
      "text/plain": [
       "'VA'"
      ]
     },
     "execution_count": 79,
     "metadata": {},
     "output_type": "execute_result"
    }
   ],
   "source": [
    "dict[703]"
   ]
  },
  {
   "cell_type": "code",
   "execution_count": 83,
   "metadata": {},
   "outputs": [
    {
     "data": {
      "text/plain": [
       "'DC'"
      ]
     },
     "execution_count": 83,
     "metadata": {},
     "output_type": "execute_result"
    }
   ],
   "source": [
    "dict[202]"
   ]
  },
  {
   "cell_type": "code",
   "execution_count": 84,
   "metadata": {},
   "outputs": [
    {
     "data": {
      "text/plain": [
       "{201: 'NJ',\n",
       " 202: 'DC',\n",
       " 203: 'CT',\n",
       " 205: 'AL',\n",
       " 206: 'WA',\n",
       " 207: 'ME',\n",
       " 208: 'ID',\n",
       " 209: 'CA',\n",
       " 210: 'TX',\n",
       " 212: 'NY',\n",
       " 213: 'CA',\n",
       " 214: 'TX',\n",
       " 215: 'PA',\n",
       " 216: 'OH',\n",
       " 217: 'IL',\n",
       " 218: 'MN',\n",
       " 219: 'IN',\n",
       " 220: 'OH',\n",
       " 224: 'IL',\n",
       " 225: 'LA',\n",
       " 228: 'MS',\n",
       " 229: 'GA',\n",
       " 231: 'MI',\n",
       " 234: 'OH',\n",
       " 239: 'FL',\n",
       " 240: 'MD',\n",
       " 248: 'MI',\n",
       " 251: 'AL',\n",
       " 252: 'NC',\n",
       " 253: 'WA',\n",
       " 254: 'TX',\n",
       " 256: 'AL',\n",
       " 260: 'IN',\n",
       " 262: 'WI',\n",
       " 267: 'PA',\n",
       " 269: 'MI',\n",
       " 270: 'KY',\n",
       " 272: 'PA',\n",
       " 276: 'VA',\n",
       " 281: 'TX',\n",
       " 301: 'MD',\n",
       " 302: 'DE',\n",
       " 303: 'CO',\n",
       " 304: 'WV',\n",
       " 305: 'FL',\n",
       " 307: 'WY',\n",
       " 308: 'NE',\n",
       " 309: 'IL',\n",
       " 310: 'CA',\n",
       " 312: 'IL',\n",
       " 313: 'MI',\n",
       " 314: 'MO',\n",
       " 315: 'NY',\n",
       " 316: 'KS',\n",
       " 317: 'IN',\n",
       " 318: 'LA',\n",
       " 319: 'IA',\n",
       " 320: 'MN',\n",
       " 321: 'FL',\n",
       " 323: 'CA',\n",
       " 325: 'TX',\n",
       " 330: 'OH',\n",
       " 331: 'IL',\n",
       " 334: 'AL',\n",
       " 336: 'NC',\n",
       " 337: 'LA',\n",
       " 339: 'MA',\n",
       " 346: 'TX',\n",
       " 347: 'NY',\n",
       " 351: 'MA',\n",
       " 352: 'FL',\n",
       " 360: 'WA',\n",
       " 361: 'TX',\n",
       " 364: 'KY',\n",
       " 385: 'UT',\n",
       " 386: 'FL',\n",
       " 401: 'RI',\n",
       " 402: 'NE',\n",
       " 404: 'GA',\n",
       " 405: 'OK',\n",
       " 406: 'MT',\n",
       " 407: 'FL',\n",
       " 408: 'CA',\n",
       " 409: 'TX',\n",
       " 410: 'MD',\n",
       " 412: 'PA',\n",
       " 413: 'MA',\n",
       " 414: 'WI',\n",
       " 415: 'CA',\n",
       " 417: 'MO',\n",
       " 419: 'OH',\n",
       " 423: 'TN',\n",
       " 424: 'CA',\n",
       " 425: 'WA',\n",
       " 432: 'TX',\n",
       " 434: 'VA',\n",
       " 435: 'UT',\n",
       " 440: 'OH',\n",
       " 442: 'CA',\n",
       " 443: 'MD',\n",
       " 458: 'OR',\n",
       " 469: 'TX',\n",
       " 478: 'GA',\n",
       " 479: 'AR',\n",
       " 480: 'AZ',\n",
       " 484: 'PA',\n",
       " 501: 'AR',\n",
       " 502: 'KY',\n",
       " 503: 'OR',\n",
       " 504: 'LA',\n",
       " 505: 'NM',\n",
       " 507: 'MN',\n",
       " 508: 'MA',\n",
       " 509: 'WA',\n",
       " 510: 'CA',\n",
       " 512: 'TX',\n",
       " 513: 'OH',\n",
       " 515: 'IA',\n",
       " 516: 'NY',\n",
       " 517: 'MI',\n",
       " 518: 'NY',\n",
       " 520: 'AZ',\n",
       " 530: 'CA',\n",
       " 531: 'NE',\n",
       " 539: 'OK',\n",
       " 540: 'VA',\n",
       " 541: 'OR',\n",
       " 551: 'NJ',\n",
       " 559: 'CA',\n",
       " 561: 'FL',\n",
       " 562: 'CA',\n",
       " 563: 'IA',\n",
       " 567: 'OH',\n",
       " 570: 'PA',\n",
       " 571: 'VA',\n",
       " 573: 'MO',\n",
       " 574: 'IN',\n",
       " 575: 'NM',\n",
       " 580: 'OK',\n",
       " 585: 'NY',\n",
       " 586: 'MI',\n",
       " 601: 'MS',\n",
       " 602: 'AZ',\n",
       " 603: 'NH',\n",
       " 605: 'SD',\n",
       " 606: 'KY',\n",
       " 607: 'NY',\n",
       " 608: 'WI',\n",
       " 609: 'NJ',\n",
       " 610: 'PA',\n",
       " 612: 'MN',\n",
       " 614: 'OH',\n",
       " 615: 'TN',\n",
       " 616: 'MI',\n",
       " 617: 'MA',\n",
       " 618: 'IL',\n",
       " 619: 'CA',\n",
       " 620: 'KS',\n",
       " 623: 'AZ',\n",
       " 626: 'CA',\n",
       " 628: 'CA',\n",
       " 629: 'TN',\n",
       " 630: 'IL',\n",
       " 631: 'NY',\n",
       " 636: 'MO',\n",
       " 641: 'IA',\n",
       " 646: 'NY',\n",
       " 650: 'CA',\n",
       " 651: 'MN',\n",
       " 657: 'CA',\n",
       " 660: 'MO',\n",
       " 661: 'CA',\n",
       " 662: 'MS',\n",
       " 667: 'MD',\n",
       " 669: 'CA',\n",
       " 678: 'GA',\n",
       " 681: 'WV',\n",
       " 682: 'TX',\n",
       " 701: 'ND',\n",
       " 702: 'NV',\n",
       " 703: 'VA',\n",
       " 704: 'NC',\n",
       " 706: 'GA',\n",
       " 707: 'CA',\n",
       " 708: 'IL',\n",
       " 712: 'IA',\n",
       " 713: 'TX',\n",
       " 714: 'CA',\n",
       " 715: 'WI',\n",
       " 716: 'NY',\n",
       " 717: 'PA',\n",
       " 718: 'NY',\n",
       " 719: 'CO',\n",
       " 720: 'CO',\n",
       " 724: 'PA',\n",
       " 725: 'NV',\n",
       " 727: 'FL',\n",
       " 731: 'TN',\n",
       " 732: 'NJ',\n",
       " 734: 'MI',\n",
       " 737: 'TX',\n",
       " 740: 'OH',\n",
       " 743: 'NC',\n",
       " 747: 'CA',\n",
       " 754: 'FL',\n",
       " 757: 'VA',\n",
       " 760: 'CA',\n",
       " 762: 'GA',\n",
       " 763: 'MN',\n",
       " 765: 'IN',\n",
       " 769: 'MS',\n",
       " 770: 'GA',\n",
       " 772: 'FL',\n",
       " 773: 'IL',\n",
       " 774: 'MA',\n",
       " 775: 'NV',\n",
       " 779: 'IL',\n",
       " 781: 'MA',\n",
       " 785: 'KS',\n",
       " 786: 'FL',\n",
       " 801: 'UT',\n",
       " 802: 'VT',\n",
       " 803: 'SC',\n",
       " 804: 'VA',\n",
       " 805: 'CA',\n",
       " 806: 'TX',\n",
       " 808: 'HI',\n",
       " 810: 'MI',\n",
       " 812: 'IN',\n",
       " 813: 'FL',\n",
       " 814: 'PA',\n",
       " 815: 'IL',\n",
       " 816: 'MO',\n",
       " 817: 'TX',\n",
       " 818: 'CA',\n",
       " 828: 'NC',\n",
       " 830: 'TX',\n",
       " 831: 'CA',\n",
       " 832: 'TX',\n",
       " 843: 'SC',\n",
       " 845: 'NY',\n",
       " 847: 'IL',\n",
       " 848: 'NJ',\n",
       " 850: 'FL',\n",
       " 856: 'NJ',\n",
       " 857: 'MA',\n",
       " 858: 'CA',\n",
       " 859: 'KY',\n",
       " 860: 'CT',\n",
       " 862: 'NJ',\n",
       " 863: 'FL',\n",
       " 864: 'SC',\n",
       " 865: 'TN',\n",
       " 870: 'AR',\n",
       " 878: 'PA',\n",
       " 901: 'TN',\n",
       " 903: 'TX',\n",
       " 904: 'FL',\n",
       " 907: 'AK',\n",
       " 908: 'NJ',\n",
       " 909: 'CA',\n",
       " 910: 'NC',\n",
       " 912: 'GA',\n",
       " 913: 'KS',\n",
       " 914: 'NY',\n",
       " 915: 'TX',\n",
       " 916: 'CA',\n",
       " 917: 'NY',\n",
       " 918: 'OK',\n",
       " 919: 'NC',\n",
       " 920: 'WI',\n",
       " 925: 'CA',\n",
       " 928: 'AZ',\n",
       " 929: 'NY',\n",
       " 930: 'IN',\n",
       " 931: 'TN',\n",
       " 936: 'TX',\n",
       " 937: 'OH',\n",
       " 940: 'TX',\n",
       " 941: 'FL',\n",
       " 947: 'MI',\n",
       " 949: 'CA',\n",
       " 951: 'CA',\n",
       " 952: 'MN',\n",
       " 954: 'FL',\n",
       " 956: 'TX',\n",
       " 959: 'CT',\n",
       " 970: 'CO',\n",
       " 971: 'OR',\n",
       " 972: 'TX',\n",
       " 973: 'NJ',\n",
       " 978: 'MA',\n",
       " 979: 'TX',\n",
       " 980: 'NC',\n",
       " 984: 'NC',\n",
       " 985: 'LA',\n",
       " 989: 'MI',\n",
       " 854: 'SC'}"
      ]
     },
     "execution_count": 84,
     "metadata": {},
     "output_type": "execute_result"
    }
   ],
   "source": [
    "dict"
   ]
  },
  {
   "cell_type": "markdown",
   "metadata": {},
   "source": [
    "### Hardcode for convenient use"
   ]
  },
  {
   "cell_type": "code",
   "execution_count": 86,
   "metadata": {},
   "outputs": [],
   "source": [
    "dist = {201: 'NJ', 202: 'DC', 203: 'CT', 205: 'AL', 206: 'WA', 207: 'ME', 208: 'ID', 209: 'CA', \n",
    "        210: 'TX', 212: 'NY', 213: 'CA', 214: 'TX', 215: 'PA', 216: 'OH', 217: 'IL', 218: 'MN', 219: 'IN',\n",
    "        220: 'OH', 224: 'IL', 225: 'LA', 228: 'MS', 229: 'GA',\n",
    "        231: 'MI', 234: 'OH', 239: 'FL', 240: 'MD', 248: 'MI',\n",
    "        251: 'AL', 252: 'NC', 253: 'WA', 254: 'TX', 256: 'AL', 260: 'IN', 262: 'WI', 267: 'PA', 269: 'MI',\n",
    "        270: 'KY', 272: 'PA', 276: 'VA', 281: 'TX',\n",
    "        301: 'MD', 302: 'DE', 303: 'CO', 304: 'WV', 305: 'FL', 307: 'WY', 308: 'NE', 309: 'IL',\n",
    "        310: 'CA', 312: 'IL', 313: 'MI', 314: 'MO', 315: 'NY', 316: 'KS', 317: 'IN', 318: 'LA', 319: 'IA',\n",
    "        320: 'MN', 321: 'FL', 323: 'CA', 325: 'TX', \n",
    "        330: 'OH', 331: 'IL', 334: 'AL', 336: 'NC', 337: 'LA', 339: 'MA',\n",
    "        346: 'TX', 347: 'NY',\n",
    "        351: 'MA', 352: 'FL', 360: 'WA',\n",
    "        361: 'TX', 364: 'KY',\n",
    "        385: 'UT', 386: 'FL',\n",
    "        401: 'RI', 402: 'NE', 404: 'GA', 405: 'OK', 406: 'MT', 407: 'FL', 408: 'CA', 409: 'TX',\n",
    "        410: 'MD', 412: 'PA', 413: 'MA', 414: 'WI', 415: 'CA', 417: 'MO', 419: 'OH',\n",
    "        423: 'TN', 424: 'CA', 425: 'WA',\n",
    "        432: 'TX', 434: 'VA', 435: 'UT',\n",
    "        440: 'OH', 442: 'CA', 443: 'MD',\n",
    "        458: 'OR', 469: 'TX', 478: 'GA', 479: 'AR',\n",
    "        480: 'AZ', 484: 'PA',\n",
    "        501: 'AR', 502: 'KY', 503: 'OR', 504: 'LA', 505: 'NM', 507: 'MN', 508: 'MA', 509: 'WA',\n",
    "        510: 'CA', 512: 'TX', 513: 'OH', 515: 'IA', 516: 'NY', 517: 'MI', 518: 'NY',\n",
    "        520: 'AZ', 530: 'CA', 531: 'NE', 539: 'OK',\n",
    "        540: 'VA', 541: 'OR', 551: 'NJ', 559: 'CA',\n",
    "        561: 'FL', 562: 'CA', 563: 'IA', 567: 'OH',\n",
    "        570: 'PA', 571: 'VA', 573: 'MO', 574: 'IN', 575: 'NM',\n",
    "        580: 'OK', 585: 'NY', 586: 'MI',\n",
    "        601: 'MS', 602: 'AZ', 603: 'NH', 605: 'SD', 606: 'KY', 607: 'NY', 608: 'WI', 609: 'NJ',\n",
    "        610: 'PA', 612: 'MN', 614: 'OH', 615: 'TN', 616: 'MI', 617: 'MA', 618: 'IL', 619: 'CA',\n",
    "        620: 'KS', 623: 'AZ', 626: 'CA', 628: 'CA', 629: 'TN',\n",
    "        630: 'IL', 631: 'NY', 636: 'MO', 641: 'IA', 646: 'NY',\n",
    "        650: 'CA', 651: 'MN', 657: 'CA', 660: 'MO', 661: 'CA', 662: 'MS', 667: 'MD', 669: 'CA',\n",
    "        678: 'GA', 681: 'WV', 682: 'TX', \n",
    "        701: 'ND', 702: 'NV', 703: 'VA', 704: 'NC', 706: 'GA', 707: 'CA', 708: 'IL',\n",
    "        712: 'IA', 713: 'TX', 714: 'CA', 715: 'WI', 716: 'NY', 717: 'PA', 718: 'NY', 719: 'CO',\n",
    "        720: 'CO', 724: 'PA', 725: 'NV', 727: 'FL', 731: 'TN', 732: 'NJ', 734: 'MI', 737: 'TX',\n",
    "        740: 'OH', 743: 'NC', 747: 'CA', 754: 'FL', 757: 'VA',\n",
    "        760: 'CA', 762: 'GA', 763: 'MN', 765: 'IN', 769: 'MS',\n",
    "        770: 'GA', 772: 'FL', 773: 'IL', 774: 'MA', 775: 'NV', 779: 'IL',\n",
    "        781: 'MA', 785: 'KS', 786: 'FL', \n",
    "        801: 'UT', 802: 'VT', 803: 'SC', 804: 'VA', 805: 'CA', 806: 'TX', 808: 'HI',\n",
    "        810: 'MI', 812: 'IN', 813: 'FL', 814: 'PA', 815: 'IL', 816: 'MO', 817: 'TX', 818: 'CA', \n",
    "        828: 'NC', 830: 'TX', 831: 'CA', 832: 'TX', 843: 'SC', 845: 'NY', 847: 'IL', 848: 'NJ', \n",
    "        850: 'FL', 856: 'NJ', 857: 'MA', 858: 'CA', 859: 'KY', \n",
    "        860: 'CT', 862: 'NJ', 863: 'FL', 864: 'SC', 865: 'TN', 870: 'AR', 878: 'PA', \n",
    "        901: 'TN', 903: 'TX', 904: 'FL', 907: 'AK', 908: 'NJ', 909: 'CA', \n",
    "        910: 'NC', 912: 'GA', 913: 'KS', 914: 'NY', 915: 'TX', 916: 'CA', 917: 'NY', 918: 'OK', 919: 'NC',\n",
    "        920: 'WI', 925: 'CA', 928: 'AZ', 929: 'NY', \n",
    "        930: 'IN', 931: 'TN', 936: 'TX', 937: 'OH', \n",
    "        940: 'TX', 941: 'FL', 947: 'MI', 949: 'CA', 951: 'CA', 952: 'MN', 954: 'FL', 956: 'TX', 959: 'CT',\n",
    "        970: 'CO', 971: 'OR', 972: 'TX', 973: 'NJ', 978: 'MA', 979: 'TX', \n",
    "        980: 'NC', 984: 'NC', 985: 'LA', 989: 'MI', 854: 'SC'}\n",
    "\n",
    "area_code = list(set(dist.keys()))\n",
    "state_code = list(set(dist.values()))\n",
    "areacode_state = area_code + state_code"
   ]
  },
  {
   "cell_type": "code",
   "execution_count": 87,
   "metadata": {},
   "outputs": [
    {
     "data": {
      "text/plain": [
       "51"
      ]
     },
     "execution_count": 87,
     "metadata": {},
     "output_type": "execute_result"
    }
   ],
   "source": [
    "len(state_code)"
   ]
  },
  {
   "cell_type": "code",
   "execution_count": 88,
   "metadata": {},
   "outputs": [
    {
     "data": {
      "text/plain": [
       "298"
      ]
     },
     "execution_count": 88,
     "metadata": {},
     "output_type": "execute_result"
    }
   ],
   "source": [
    "len(area_code)"
   ]
  },
  {
   "cell_type": "code",
   "execution_count": 89,
   "metadata": {},
   "outputs": [
    {
     "data": {
      "text/plain": [
       "349"
      ]
     },
     "execution_count": 89,
     "metadata": {},
     "output_type": "execute_result"
    }
   ],
   "source": [
    "len(areacode_state)"
   ]
  },
  {
   "cell_type": "code",
   "execution_count": 90,
   "metadata": {},
   "outputs": [
    {
     "data": {
      "text/plain": [
       "'DC'"
      ]
     },
     "execution_count": 90,
     "metadata": {},
     "output_type": "execute_result"
    }
   ],
   "source": [
    "dist[202]"
   ]
  },
  {
   "cell_type": "markdown",
   "metadata": {},
   "source": [
    "### Define the Regular Expression that covers all types of phone number"
   ]
  },
  {
   "cell_type": "code",
   "execution_count": 91,
   "metadata": {},
   "outputs": [],
   "source": [
    "p = re.compile(r'(?:\\+?(\\d{1})?-?\\(?(\\d{3})\\)?[\\s\\-\\.]?)?(\\d{3})[\\s\\-\\.]*(\\d{4})[\\s\\-\\.]*(?:(?:ext\\.|x)\\s?(\\d+))?')"
   ]
  },
  {
   "cell_type": "markdown",
   "metadata": {},
   "source": [
    "#### Types of phone number"
   ]
  },
  {
   "cell_type": "code",
   "execution_count": 92,
   "metadata": {},
   "outputs": [],
   "source": [
    "type1 = '(202) 957-8741'\n",
    "type2 = '(202)555-7766'\n",
    "type3 = '7034435775'\n",
    "type4 = '703-885-9971'\n",
    "type5 = '12029974555'\n",
    "type6 = '301.775.8616'\n",
    "type7 = ' 301-997-2114'\n",
    "type8 = '703-666-3432  703-211-2444'\n",
    "type9 = '2029778867 2029980112'\n",
    "type10 = '3018864543 3019792244 7039982242'\n",
    "type11 = '(202) 887 - 3114'\n",
    "type12 = '(301)8079921'\n",
    "type13 = '(202) 654-8005 x0000'\n",
    "type14 = '703-112-9971 ext.83247'\n",
    "type15 = '703-112-9971x27'\n",
    "type16 = '275-6427'   #None"
   ]
  },
  {
   "cell_type": "code",
   "execution_count": 59,
   "metadata": {},
   "outputs": [
    {
     "name": "stdout",
     "output_type": "stream",
     "text": [
      "[('', '202', '957', '8741', '')]\n",
      "(None, '202', '957', '8741', None)\n",
      "202\n",
      "[('', '202', '555', '7766', '')]\n",
      "(None, '202', '555', '7766', None)\n",
      "202\n",
      "[('', '703', '443', '5775', '')]\n",
      "(None, '703', '443', '5775', None)\n",
      "703\n",
      "[('', '703', '885', '9971', '')]\n",
      "(None, '703', '885', '9971', None)\n",
      "703\n",
      "[('1', '202', '997', '4555', '')]\n",
      "('1', '202', '997', '4555', None)\n",
      "202\n",
      "[('', '301', '775', '8616', '')]\n",
      "(None, '301', '775', '8616', None)\n",
      "301\n",
      "[('', '703', '666', '3432', ''), ('', '703', '211', '2444', '')]\n",
      "(None, '703', '666', '3432', None)\n",
      "703\n",
      "[('', '202', '977', '8867', ''), ('', '202', '998', '0112', '')]\n",
      "(None, '202', '977', '8867', None)\n",
      "202\n",
      "[('', '301', '886', '4543', ''), ('', '301', '979', '2244', ''), ('', '703', '998', '2242', '')]\n",
      "(None, '301', '886', '4543', None)\n",
      "301\n",
      "[('', '202', '887', '3114', '')]\n",
      "(None, '202', '887', '3114', None)\n",
      "202\n",
      "[('', '301', '807', '9921', '')]\n",
      "(None, '301', '807', '9921', None)\n",
      "301\n",
      "[('', '202', '654', '8005', '0000')]\n",
      "(None, '202', '654', '8005', '0000')\n",
      "202\n",
      "[('', '703', '112', '9971', '83247')]\n",
      "(None, '703', '112', '9971', '83247')\n",
      "703\n",
      "[('', '703', '112', '9971', '27')]\n",
      "(None, '703', '112', '9971', '27')\n",
      "703\n",
      "[('', '', '275', '6427', '')]\n",
      "(None, None, '275', '6427', None)\n",
      "None\n"
     ]
    }
   ],
   "source": [
    "print(p.findall(type1))\n",
    "print(p.match(type1).groups())\n",
    "print(p.match(type1).group(2))\n",
    "\n",
    "print(p.findall(type2))\n",
    "print(p.match(type2).groups())\n",
    "print(p.match(type2).group(2))\n",
    "\n",
    "print(p.findall(type3))\n",
    "print(p.match(type3).groups())\n",
    "print(p.match(type3).group(2))\n",
    "\n",
    "print(p.findall(type4))\n",
    "print(p.match(type4).groups())\n",
    "print(p.match(type4).group(2))\n",
    "\n",
    "print(p.findall(type5))\n",
    "print(p.match(type5).groups())\n",
    "print(p.match(type5).group(2))\n",
    "\n",
    "print(p.findall(type6))\n",
    "print(p.match(type6).groups())\n",
    "print(p.match(type6).group(2))\n",
    "\n",
    "# print(p.findall(type7))\n",
    "# print(p.match(type7).groups())\n",
    "# print(p.match(type7).group(2))\n",
    "\n",
    "print(p.findall(type8))\n",
    "print(p.match(type8).groups())\n",
    "print(p.match(type8).group(2))\n",
    "\n",
    "print(p.findall(type9))\n",
    "print(p.match(type9).groups())\n",
    "print(p.match(type9).group(2))\n",
    "\n",
    "print(p.findall(type10))\n",
    "print(p.match(type10).groups())\n",
    "print(p.match(type10).group(2))\n",
    "\n",
    "print(p.findall(type11))\n",
    "print(p.match(type11).groups())\n",
    "print(p.match(type11).group(2))\n",
    "\n",
    "print(p.findall(type12))\n",
    "print(p.match(type12).groups())\n",
    "print(p.match(type12).group(2))\n",
    "\n",
    "print(p.findall(type13))\n",
    "print(p.match(type13).groups())\n",
    "print(p.match(type13).group(2))\n",
    "\n",
    "print(p.findall(type14))\n",
    "print(p.match(type14).groups())\n",
    "print(p.match(type14).group(2))\n",
    "\n",
    "print(p.findall(type15))\n",
    "print(p.match(type15).groups())\n",
    "print(p.match(type15).group(2))\n",
    "\n",
    "print(p.findall(type16))\n",
    "print(p.match(type16).groups())\n",
    "print(p.match(type16).group(2))\n"
   ]
  },
  {
   "cell_type": "code",
   "execution_count": 93,
   "metadata": {},
   "outputs": [
    {
     "name": "stdout",
     "output_type": "stream",
     "text": [
      "202\n"
     ]
    }
   ],
   "source": [
    "type1 = '(202) 957-8741'\n",
    "print(p.match(type1).group(2))"
   ]
  },
  {
   "cell_type": "code",
   "execution_count": 94,
   "metadata": {},
   "outputs": [
    {
     "data": {
      "text/plain": [
       "str"
      ]
     },
     "execution_count": 94,
     "metadata": {},
     "output_type": "execute_result"
    }
   ],
   "source": [
    "matchobj = p.search(type1)\n",
    "if matchobj:\n",
    "    aaa = (matchobj.group(2))\n",
    "\n",
    "type(aaa)"
   ]
  },
  {
   "cell_type": "code",
   "execution_count": 108,
   "metadata": {},
   "outputs": [
    {
     "name": "stdout",
     "output_type": "stream",
     "text": [
      "DC\n"
     ]
    }
   ],
   "source": [
    "matchobj = p.search(type1)\n",
    "if matchobj:\n",
    "    print(dist[int((matchobj.group(2)))])"
   ]
  },
  {
   "cell_type": "code",
   "execution_count": 116,
   "metadata": {},
   "outputs": [
    {
     "name": "stdout",
     "output_type": "stream",
     "text": [
      "None\n"
     ]
    }
   ],
   "source": [
    "matchobj = p.search(type16)\n",
    "try:\n",
    "    if matchobj:\n",
    "        print(dist[int((matchobj.group(2)))])\n",
    "    \n",
    "except:\n",
    "    print(\"None\")"
   ]
  },
  {
   "cell_type": "code",
   "execution_count": null,
   "metadata": {},
   "outputs": [],
   "source": []
  },
  {
   "cell_type": "code",
   "execution_count": null,
   "metadata": {},
   "outputs": [],
   "source": []
  },
  {
   "cell_type": "code",
   "execution_count": null,
   "metadata": {},
   "outputs": [],
   "source": []
  },
  {
   "cell_type": "code",
   "execution_count": null,
   "metadata": {},
   "outputs": [],
   "source": []
  },
  {
   "cell_type": "code",
   "execution_count": null,
   "metadata": {},
   "outputs": [],
   "source": []
  }
 ],
 "metadata": {
  "kernelspec": {
   "display_name": "Python 3",
   "language": "python",
   "name": "python3"
  },
  "language_info": {
   "codemirror_mode": {
    "name": "ipython",
    "version": 3
   },
   "file_extension": ".py",
   "mimetype": "text/x-python",
   "name": "python",
   "nbconvert_exporter": "python",
   "pygments_lexer": "ipython3",
   "version": "3.7.1"
  }
 },
 "nbformat": 4,
 "nbformat_minor": 2
}
